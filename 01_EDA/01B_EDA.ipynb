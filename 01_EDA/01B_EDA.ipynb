{
 "cells": [
  {
   "cell_type": "markdown",
   "id": "e3b33e6f-595b-44cb-874a-b87e69086e85",
   "metadata": {},
   "source": [
    "# EDA on FRED Data"
   ]
  },
  {
   "cell_type": "markdown",
   "id": "49c94a8c-9275-4067-84b5-97ba770e6c60",
   "metadata": {},
   "source": [
    "## Load the data"
   ]
  },
  {
   "cell_type": "code",
   "execution_count": null,
   "id": "76d34fe2-23bf-46ec-a8e0-366ca2a31a8f",
   "metadata": {},
   "outputs": [],
   "source": [
    "import pandas as pd\n",
    "\n",
    "df = pd.read_excel(\n",
    "    'data/UNRATE.xls', skiprows=10,\n",
    "    index_col=0, parse_dates=['observation_date']\n",
    ")\n",
    "\n",
    "df"
   ]
  },
  {
   "cell_type": "markdown",
   "id": "8893b045-0e3b-46c7-8006-21dfb7173a41",
   "metadata": {},
   "source": [
    "## Plot the time series"
   ]
  },
  {
   "cell_type": "code",
   "execution_count": null,
   "id": "f4b59040-c1ad-4bf9-9bbc-5d3360aa5d6c",
   "metadata": {},
   "outputs": [],
   "source": []
  },
  {
   "cell_type": "markdown",
   "id": "ffbe605c-1378-4a51-91d9-b846a71e4b0b",
   "metadata": {},
   "source": [
    "## Significant values"
   ]
  },
  {
   "cell_type": "markdown",
   "id": "6a45ae2e-168a-43e5-837f-84d5f4ef3126",
   "metadata": {},
   "source": [
    "### Maximum"
   ]
  },
  {
   "cell_type": "markdown",
   "id": "8acab66c-fbe9-4c53-92e8-cc33907eeaf2",
   "metadata": {},
   "source": [
    "#### Value"
   ]
  },
  {
   "cell_type": "code",
   "execution_count": null,
   "id": "4ea470d9-0ed8-488e-841f-d1375e3e0f2b",
   "metadata": {},
   "outputs": [],
   "source": []
  },
  {
   "cell_type": "markdown",
   "id": "3eb3fe33-c714-4c5e-b185-482f91880ec8",
   "metadata": {},
   "source": [
    "#### Time"
   ]
  },
  {
   "cell_type": "code",
   "execution_count": null,
   "id": "6ca77a11-0c0c-4f97-ae53-c57742ad622f",
   "metadata": {},
   "outputs": [],
   "source": []
  },
  {
   "cell_type": "code",
   "execution_count": null,
   "id": "5e524928-8a75-4e8c-b00b-bca69a37f6f5",
   "metadata": {},
   "outputs": [],
   "source": []
  },
  {
   "cell_type": "markdown",
   "id": "a7605647-a526-4a01-9f64-fd5991363e48",
   "metadata": {},
   "source": [
    "### Minimum"
   ]
  },
  {
   "cell_type": "markdown",
   "id": "30820651-8007-448e-adc5-79d1b240a17a",
   "metadata": {},
   "source": [
    "#### Value"
   ]
  },
  {
   "cell_type": "code",
   "execution_count": null,
   "id": "26fc9f1a-bdc8-4885-a100-376109cf60d1",
   "metadata": {},
   "outputs": [],
   "source": []
  },
  {
   "cell_type": "markdown",
   "id": "51133154-6970-4c43-a745-4861a886a2ad",
   "metadata": {},
   "source": [
    "#### Time"
   ]
  },
  {
   "cell_type": "code",
   "execution_count": null,
   "id": "23f66f1a-f5a2-499c-9d13-12914cc92cd5",
   "metadata": {},
   "outputs": [],
   "source": []
  },
  {
   "cell_type": "code",
   "execution_count": null,
   "id": "b32c7a2c-c7b5-4d7d-b981-5add6053953c",
   "metadata": {},
   "outputs": [],
   "source": []
  },
  {
   "cell_type": "markdown",
   "id": "2b39dc20-c25c-4ebc-a701-c45bbccf366a",
   "metadata": {},
   "source": [
    "## Plot significant values"
   ]
  },
  {
   "cell_type": "code",
   "execution_count": null,
   "id": "a557a5d5-a16f-4044-91bb-9f0162e3156f",
   "metadata": {},
   "outputs": [],
   "source": []
  },
  {
   "cell_type": "markdown",
   "id": "703382b9-6854-427b-98c6-01f50b4272a2",
   "metadata": {},
   "source": [
    "## Reporting with Pandas DataFrame"
   ]
  },
  {
   "cell_type": "markdown",
   "id": "a5094e7c-c027-4335-9994-30d618c435b8",
   "metadata": {},
   "source": [
    "### Process the DataFrame"
   ]
  },
  {
   "cell_type": "code",
   "execution_count": null,
   "id": "c584b562-0609-402b-91f7-bbf4718c626d",
   "metadata": {},
   "outputs": [],
   "source": []
  },
  {
   "cell_type": "markdown",
   "id": "d3cf3627-9aeb-4101-8386-95ff64fb1399",
   "metadata": {},
   "source": [
    "### Style the DataFrame"
   ]
  },
  {
   "cell_type": "code",
   "execution_count": null,
   "id": "ca429de9-2e75-402b-8f04-6b9c7cb95701",
   "metadata": {},
   "outputs": [],
   "source": []
  },
  {
   "cell_type": "markdown",
   "id": "c376727f-4519-4362-9439-03f19ca9081e",
   "metadata": {},
   "source": [
    "## Resample the data"
   ]
  },
  {
   "cell_type": "markdown",
   "id": "af2b3ec6-e155-4f2d-963b-d1333474e414",
   "metadata": {},
   "source": [
    "### Process the `DataFrame`"
   ]
  },
  {
   "cell_type": "code",
   "execution_count": null,
   "id": "5a1d4d88-0ca6-44d0-90d3-804d703e4b44",
   "metadata": {},
   "outputs": [],
   "source": []
  },
  {
   "cell_type": "markdown",
   "id": "1bf66629-adf0-4b44-891b-933d4c6b5544",
   "metadata": {},
   "source": [
    "### Plot the data"
   ]
  },
  {
   "cell_type": "code",
   "execution_count": null,
   "id": "0e1ed84e-91c4-4977-b85f-da9648858b7e",
   "metadata": {},
   "outputs": [],
   "source": []
  },
  {
   "cell_type": "markdown",
   "id": "1dff4dde-4e41-43b8-a9b7-27960111b50f",
   "metadata": {},
   "source": [
    "### Reporting with Pandas DataFrame"
   ]
  },
  {
   "cell_type": "markdown",
   "id": "da5322f2-83ab-4f96-9624-705b62a60e78",
   "metadata": {},
   "source": [
    "#### Process the DataFrame"
   ]
  },
  {
   "cell_type": "code",
   "execution_count": null,
   "id": "02ad5036-d42c-43e3-bae7-4f7cec0af7b0",
   "metadata": {},
   "outputs": [],
   "source": []
  },
  {
   "cell_type": "markdown",
   "id": "c12934ea-260f-42b8-9f60-41b5aaefe44c",
   "metadata": {},
   "source": [
    "#### Style the DataFrame"
   ]
  },
  {
   "cell_type": "code",
   "execution_count": null,
   "id": "5d63d5d8-1395-4ef8-8629-9675919a9026",
   "metadata": {},
   "outputs": [],
   "source": []
  }
 ],
 "metadata": {
  "kernelspec": {
   "display_name": "Python 3 (ipykernel)",
   "language": "python",
   "name": "python3"
  },
  "language_info": {
   "codemirror_mode": {
    "name": "ipython",
    "version": 3
   },
   "file_extension": ".py",
   "mimetype": "text/x-python",
   "name": "python",
   "nbconvert_exporter": "python",
   "pygments_lexer": "ipython3",
   "version": "3.10.6"
  }
 },
 "nbformat": 4,
 "nbformat_minor": 5
}
